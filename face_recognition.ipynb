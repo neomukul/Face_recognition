{
 "cells": [
  {
   "cell_type": "code",
   "execution_count": 1,
   "metadata": {},
   "outputs": [],
   "source": [
    "# importing the suporting libreary\n",
    "import face_recognition\n",
    "import os\n",
    "import cv2"
   ]
  },
  {
   "cell_type": "code",
   "execution_count": 2,
   "metadata": {},
   "outputs": [],
   "source": [
    "known_dir = \"/home/neo/Task_Intershala/face_recog/Known\" # path to folder with known images\n",
    "unknown_dir = \"/home/neo/Task_Intershala/face_recog/Unknown\" # path to folder with unknown images\n",
    "threshold = 0.6   # cut-off values for image comparision\n",
    "boarder = 2  # thickness of the face border line\n",
    "text = 1 # Text thickness\n",
    "model = 'cnn' # model used to determine face locations\n",
    "\n",
    "known_faces = []\n",
    "known_names = []"
   ]
  },
  {
   "cell_type": "code",
   "execution_count": 5,
   "metadata": {},
   "outputs": [],
   "source": [
    "# In the first loop i am loading the images using face_recognition package's load image file module\n",
    "# then encoding each unique face using face_encoding \n",
    "# appending all unique faces and associated names in known_faces and known_name list\n",
    "for name in os.listdir(known_dir):\n",
    "    for filename in os.listdir(f\"{known_dir}/{name}\"):\n",
    "        image = face_recognition.load_image_file(f\"{known_dir}/{name}/{filename}\")\n",
    "        image = face_recognition.face_encodings(image)[0]\n",
    "        known_faces.append(image)\n",
    "        known_names.append(name)\n",
    "        \n",
    "        \n",
    "     \n"
   ]
  },
  {
   "cell_type": "code",
   "execution_count": null,
   "metadata": {},
   "outputs": [
    {
     "name": "stdout",
     "output_type": "stream",
     "text": [
      "download (3).jpeg\n",
      "Match found: scarlett johansson\n",
      "Match found: chris evans\n",
      "Match found: chris hemsworth\n",
      "Match found: Robert downy jr\n",
      "download (2).jpeg\n",
      "Match found: chris evans\n",
      "Match found: chris hemsworth\n",
      "Match found: scarlett johansson\n",
      "download (6).jpeg\n",
      "download (1).jpeg\n",
      "Match found: chris evans\n",
      "Match found: chris evans\n",
      "Match found: scarlett johansson\n",
      "Match found: Robert downy jr\n",
      "download.jpeg\n",
      "Match found: chris evans\n",
      "download (5).jpeg\n",
      "Match found: scarlett johansson\n",
      "download (7).jpeg\n",
      "download (10).jpeg\n",
      "Match found: chris evans\n",
      "Match found: chris hemsworth\n"
     ]
    }
   ],
   "source": [
    "for filename in os.listdir(unknown_dir):\n",
    "    print(filename)\n",
    "    image = face_recognition.load_image_file(f\"{unknown_dir}/{filename}\") # loading image\n",
    "    locations = face_recognition.face_locations(image,model=model)  # locating the face using cnn\n",
    "    encoding = face_recognition.face_encodings(image,locations)  # encoding the unknown images\n",
    "    image = cv2.cvtColor(image, cv2.COLOR_RGB2BGR)  # converting the images to BGR for display\n",
    "    \n",
    "    for face_encoding, face_location in zip(encoding,locations):\n",
    "        results = face_recognition.compare_faces(known_faces,face_encoding,threshold) # comparing the encoding of known faces and unknown faces.\n",
    "        match = None # this operation will return only a boolean value, we have to complare the index of that value with known_name list.\n",
    "        if True in results:\n",
    "            match = known_names[results.index(True)]\n",
    "            print(f\"Match found: {match}\")\n",
    "            \n",
    "            \n",
    "            # Drawing the rectange aroung the face\n",
    "            top_left = (face_location[3],face_location[0])        \n",
    "            bottom_right = (face_location[1],face_location[2]) \n",
    "            color = [255,0,0]\n",
    "            cv2.rectangle(image,top_left,bottom_right,color,boarder)\n",
    "            \n",
    "            \n",
    "            # rectange for the name(text)\n",
    "            top_left = (face_location[3],face_location[2])        \n",
    "            bottom_right = (face_location[1],face_location[2]+22) \n",
    "            cv2.rectangle(image,top_left,bottom_right,color,cv2.FILLED)\n",
    "            cv2.putText(image,match,(face_location[3]+10,face_location[2]+15),\n",
    "                        cv2.FONT_HERSHEY_SIMPLEX,.5,(200,200,200),text)\n",
    "    \n",
    "    cv2.imshow(filename,image) # final display of the image and prediction\n",
    "    cv2.waitKey(0)\n",
    "    cv2.destroyAllWindows()    \n",
    "        \n"
   ]
  },
  {
   "cell_type": "code",
   "execution_count": null,
   "metadata": {},
   "outputs": [],
   "source": [
    "ls"
   ]
  },
  {
   "cell_type": "code",
   "execution_count": null,
   "metadata": {},
   "outputs": [],
   "source": []
  },
  {
   "cell_type": "code",
   "execution_count": null,
   "metadata": {},
   "outputs": [],
   "source": []
  }
 ],
 "metadata": {
  "kernelspec": {
   "display_name": "Python 3",
   "language": "python",
   "name": "python3"
  },
  "language_info": {
   "codemirror_mode": {
    "name": "ipython",
    "version": 3
   },
   "file_extension": ".py",
   "mimetype": "text/x-python",
   "name": "python",
   "nbconvert_exporter": "python",
   "pygments_lexer": "ipython3",
   "version": "3.8.2"
  }
 },
 "nbformat": 4,
 "nbformat_minor": 4
}
